{
 "cells": [
  {
   "cell_type": "code",
   "execution_count": 5,
   "metadata": {},
   "outputs": [],
   "source": [
    "import pandas as pd\n",
    "import numpy as np\n",
    "from sklearn.preprocessing import StandardScaler\n",
    "from sklearn.decomposition import PCA\n",
    "from sklearn.metrics.pairwise import cosine_similarity"
   ]
  },
  {
   "cell_type": "code",
   "execution_count": 2,
   "metadata": {},
   "outputs": [],
   "source": [
    "df = pd.read_csv(\"comoda_data.csv\")"
   ]
  },
  {
   "cell_type": "code",
   "execution_count": 6,
   "metadata": {},
   "outputs": [],
   "source": [
    "df.replace(-1, np.nan, inplace=True)"
   ]
  },
  {
   "cell_type": "code",
   "execution_count": 7,
   "metadata": {},
   "outputs": [
    {
     "name": "stdout",
     "output_type": "stream",
     "text": [
      "<class 'pandas.core.frame.DataFrame'>\n",
      "RangeIndex: 2296 entries, 0 to 2295\n",
      "Data columns (total 30 columns):\n",
      " #   Column         Non-Null Count  Dtype  \n",
      "---  ------         --------------  -----  \n",
      " 0   userID         2296 non-null   int64  \n",
      " 1   itemID         2296 non-null   int64  \n",
      " 2   rating         2296 non-null   int64  \n",
      " 3   age            2086 non-null   float64\n",
      " 4   sex            2296 non-null   int64  \n",
      " 5   city           2296 non-null   int64  \n",
      " 6   country        2296 non-null   int64  \n",
      " 7   time           2192 non-null   float64\n",
      " 8   daytype        2190 non-null   float64\n",
      " 9   season         2181 non-null   float64\n",
      " 10  location       2188 non-null   float64\n",
      " 11  weather        2169 non-null   float64\n",
      " 12  social         2191 non-null   float64\n",
      " 13  endEmo         2252 non-null   float64\n",
      " 14  dominantEmo    2252 non-null   float64\n",
      " 15  mood           2252 non-null   float64\n",
      " 16  physical       2187 non-null   float64\n",
      " 17  decision       2197 non-null   float64\n",
      " 18  interaction    2198 non-null   float64\n",
      " 19  director       2288 non-null   float64\n",
      " 20  movieCountry   2296 non-null   int64  \n",
      " 21  movieLanguage  2293 non-null   float64\n",
      " 22  movieYear      2296 non-null   int64  \n",
      " 23  genre1         2294 non-null   float64\n",
      " 24  genre2         2103 non-null   float64\n",
      " 25  genre3         1538 non-null   float64\n",
      " 26  actor1         2281 non-null   float64\n",
      " 27  actor2         2273 non-null   float64\n",
      " 28  actor3         2271 non-null   float64\n",
      " 29  budget         1889 non-null   float64\n",
      "dtypes: float64(22), int64(8)\n",
      "memory usage: 538.2 KB\n"
     ]
    }
   ],
   "source": [
    "df.info()"
   ]
  },
  {
   "cell_type": "code",
   "execution_count": 8,
   "metadata": {},
   "outputs": [
    {
     "name": "stdout",
     "output_type": "stream",
     "text": [
      "3.9880952380952377\n"
     ]
    }
   ],
   "source": [
    "def count_nan(df):\n",
    "    \"\"\"\n",
    "    Returns the percentage of NaN values in a pandas DataFrame.\n",
    "    \"\"\"\n",
    "    total_cells = df.size\n",
    "    nan_cells = df.isna().sum().sum()\n",
    "    nan_percentage = (nan_cells / total_cells) * 100\n",
    "    print(nan_percentage)\n",
    "count_nan(df)"
   ]
  },
  {
   "cell_type": "code",
   "execution_count": 10,
   "metadata": {},
   "outputs": [
    {
     "name": "stdout",
     "output_type": "stream",
     "text": [
      "0.9845980465815176\n"
     ]
    }
   ],
   "source": [
    "def cal(df):\n",
    "\n",
    "    \n",
    "    # calculate total number of possible user-item interactions\n",
    "    num_users = df[df.columns[0]].nunique()\n",
    "    num_items = df[df.columns[1]].nunique()\n",
    "    num_possible_interactions = num_users * num_items\n",
    "    \n",
    "    # calculate total number of actual user-item interactions\n",
    "    num_actual_interactions = df.shape[0]\n",
    "    \n",
    "    # calculate sparsity of ratings\n",
    "    sparsity = 1 - (num_actual_interactions / num_possible_interactions)\n",
    "    \n",
    "    print(sparsity)\n",
    "cal(df)"
   ]
  },
  {
   "cell_type": "code",
   "execution_count": null,
   "metadata": {},
   "outputs": [],
   "source": []
  }
 ],
 "metadata": {
  "kernelspec": {
   "display_name": "pytorchhere.venv",
   "language": "python",
   "name": "python3"
  },
  "language_info": {
   "codemirror_mode": {
    "name": "ipython",
    "version": 3
   },
   "file_extension": ".py",
   "mimetype": "text/x-python",
   "name": "python",
   "nbconvert_exporter": "python",
   "pygments_lexer": "ipython3",
   "version": "3.8.0"
  },
  "orig_nbformat": 4
 },
 "nbformat": 4,
 "nbformat_minor": 2
}
