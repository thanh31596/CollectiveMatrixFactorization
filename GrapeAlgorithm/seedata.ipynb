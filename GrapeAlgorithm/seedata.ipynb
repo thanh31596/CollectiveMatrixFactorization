{
 "cells": [
  {
   "cell_type": "code",
   "execution_count": 1,
   "metadata": {},
   "outputs": [],
   "source": [
    "import pandas as pd \n",
    "import numpy as np\n",
    "from sklearn.preprocessing import LabelEncoder"
   ]
  },
  {
   "cell_type": "code",
   "execution_count": 16,
   "metadata": {},
   "outputs": [],
   "source": [
    "path = 'C:/Users/thanh/OneDrive - Queensland University of Technology/dataPHD/GrapeAlgorithm/GRAPE/uci/raw_data/concrete/data/data.txt'\n",
    "la = LabelEncoder()"
   ]
  },
  {
   "cell_type": "code",
   "execution_count": 57,
   "metadata": {},
   "outputs": [],
   "source": [
    "df_np = np.loadtxt(path)\n",
    "#concerte is depaul\n",
    "#music is energy\n",
    "#comoda is housing\n",
    "#kin8nm is frappe\n",
    "#power is TravelSTS"
   ]
  },
  {
   "attachments": {},
   "cell_type": "markdown",
   "metadata": {},
   "source": [
    "# MUSIC IN CAR"
   ]
  },
  {
   "cell_type": "code",
   "execution_count": 53,
   "metadata": {},
   "outputs": [],
   "source": [
    "path_music = 'C:/Users/thanh/OneDrive - Queensland University of Technology/dataPHD/Music_InCarMusic/Music_InCarMusic/Data_InCarMusic.xlsx'"
   ]
  },
  {
   "cell_type": "code",
   "execution_count": 82,
   "metadata": {},
   "outputs": [
    {
     "name": "stdout",
     "output_type": "stream",
     "text": [
      "Unique values in column 'DrivingStyle': [nan 'relaxed driving' 'sport driving']\n",
      "Unique values in column 'landscape': [nan 'urban' 'mountains' 'country side' 'coast line']\n",
      "Unique values in column 'mood': [nan 'sad' 'lazy' 'active' 'happy']\n",
      "Unique values in column 'naturalphenomena ': [nan 'night' 'morning' 'day time' 'afternoon']\n",
      "Unique values in column 'RoadType': [nan 'city' 'serpentine' 'highway']\n",
      "Unique values in column 'sleepiness': [nan 'sleepy' 'awake']\n",
      "Unique values in column 'trafficConditions': [nan 'traffic jam' 'lots of cars' 'free road']\n",
      "Unique values in column 'weather': ['sunny' 'snowing' 'rainy' 'cloudy' nan]\n"
     ]
    }
   ],
   "source": [
    "df_music = pd.read_excel(path_music)\n",
    "for col in df_music.iloc[:,3:].columns:\n",
    "    print(f\"Unique values in column '{col}': {df_music[col].unique()}\")"
   ]
  },
  {
   "cell_type": "code",
   "execution_count": 69,
   "metadata": {},
   "outputs": [
    {
     "data": {
      "text/plain": [
       "0       NaN\n",
       "1       NaN\n",
       "2       NaN\n",
       "3       NaN\n",
       "4       NaN\n",
       "       ... \n",
       "4007    NaN\n",
       "4008    NaN\n",
       "4009    NaN\n",
       "4010    NaN\n",
       "4011    NaN\n",
       "Name: RoadType, Length: 4012, dtype: object"
      ]
     },
     "execution_count": 69,
     "metadata": {},
     "output_type": "execute_result"
    }
   ],
   "source": []
  },
  {
   "cell_type": "code",
   "execution_count": 55,
   "metadata": {},
   "outputs": [
    {
     "data": {
      "text/plain": [
       "array([ 1.,  2.,  3.,  4., nan])"
      ]
     },
     "execution_count": 55,
     "metadata": {},
     "output_type": "execute_result"
    }
   ],
   "source": [
    "# df_y = pd.DataFrame(df_np[:, -1:])\n",
    "df_y = df_music[' Rating']\n",
    "\n",
    "df_music.iloc[:,3:] = df_music.iloc[:,3:].apply(lambda series: pd.Series(\n",
    "    LabelEncoder().fit_transform(series[series.notnull()])+1,\n",
    "    index=series[series.notnull()].index \n",
    "))\n",
    "new_music_col = ['UserID', 'ItemID', 'DrivingStyle', 'landscape', 'mood','naturalphenomena ', 'RoadType', 'sleepiness', 'trafficConditions','weather', ' Rating']\n",
    "df_new_music = df_music[new_music_col]\n",
    "np.unique(df_new_music['weather'])"
   ]
  },
  {
   "cell_type": "code",
   "execution_count": 56,
   "metadata": {},
   "outputs": [
    {
     "data": {
      "text/plain": [
       "array([[1.001e+03, 7.150e+02, 0.000e+00, ..., 0.000e+00, 4.000e+00,\n",
       "        2.000e+00],\n",
       "       [1.001e+03, 2.670e+02, 0.000e+00, ..., 0.000e+00, 4.000e+00,\n",
       "        4.000e+00],\n",
       "       [1.001e+03, 2.940e+02, 0.000e+00, ..., 0.000e+00, 4.000e+00,\n",
       "        2.000e+00],\n",
       "       ...,\n",
       "       [1.042e+03, 6.820e+02, 0.000e+00, ..., 0.000e+00, 0.000e+00,\n",
       "        1.000e+00],\n",
       "       [1.042e+03, 6.910e+02, 0.000e+00, ..., 0.000e+00, 0.000e+00,\n",
       "        1.000e+00],\n",
       "       [1.042e+03, 7.230e+02, 0.000e+00, ..., 0.000e+00, 0.000e+00,\n",
       "        1.000e+00]])"
      ]
     },
     "execution_count": 56,
     "metadata": {},
     "output_type": "execute_result"
    }
   ],
   "source": [
    "df_new_music.fillna(0).values\n",
    "# np.savetxt('data.txt', df_new_music.fillna(0).values, fmt='%.2f')"
   ]
  },
  {
   "cell_type": "code",
   "execution_count": 85,
   "metadata": {},
   "outputs": [],
   "source": [
    "import pickle\n",
    "import numpy as np\n",
    "remusic = 'C:/Users/thanh/OneDrive - Queensland University of Technology/dataPHD/GrapeAlgorithm/GRAPE/uci/test/energy/0/result.pkl'\n",
    "# remusic = 'C:/Users/thanh/OneDrive - Queensland University of Technology/dataPHD/GrapeAlgorithm/GRAPE/uci/test/naval/0/remusicsult.pkl'\n",
    "with open(remusic, 'rb') as f:\n",
    "    # Load the data from the file\n",
    "    s = pickle.load(f)\n",
    "from sklearn.preprocessing import MinMaxScaler\n",
    "scaler = MinMaxScaler()\n",
    "result= np.hstack((s['outputs']['final_pred_train'], s['outputs']['final_pred_test']))\n",
    "r = result.reshape(df_new_music.iloc[:,:-1].shape)\n",
    "scaler.fit(df_new_music.iloc[:,:-1])\n",
    "sca=pd.DataFrame(scaler.inverse_transform(r))\n",
    "\n",
    "df_new_music.iloc[:, 2:-1] = sca.iloc[:, 2:]\n",
    "# df_reordered.to_csv('depaul_full.csv')\n"
   ]
  },
  {
   "cell_type": "code",
   "execution_count": 86,
   "metadata": {},
   "outputs": [
    {
     "name": "stderr",
     "output_type": "stream",
     "text": [
      "C:\\Users\\thanh\\AppData\\Local\\Packages\\PythonSoftwareFoundation.Python.3.7_qbz5n2kfra8p0\\LocalCache\\local-packages\\Python37\\site-packages\\ipykernel_launcher.py:3: SettingWithCopyWarning: \n",
      "A value is trying to be set on a copy of a slice from a DataFrame\n",
      "\n",
      "See the caveats in the documentation: https://pandas.pydata.org/pandas-docs/stable/user_guide/indexing.html#returning-a-view-versus-a-copy\n",
      "  This is separate from the ipykernel package so we can avoid doing imports until\n",
      "C:\\Users\\thanh\\AppData\\Local\\Packages\\PythonSoftwareFoundation.Python.3.7_qbz5n2kfra8p0\\LocalCache\\local-packages\\Python37\\site-packages\\ipykernel_launcher.py:5: SettingWithCopyWarning: \n",
      "A value is trying to be set on a copy of a slice from a DataFrame\n",
      "\n",
      "See the caveats in the documentation: https://pandas.pydata.org/pandas-docs/stable/user_guide/indexing.html#returning-a-view-versus-a-copy\n",
      "  \"\"\"\n",
      "C:\\Users\\thanh\\AppData\\Local\\Packages\\PythonSoftwareFoundation.Python.3.7_qbz5n2kfra8p0\\LocalCache\\local-packages\\Python37\\site-packages\\ipykernel_launcher.py:8: SettingWithCopyWarning: \n",
      "A value is trying to be set on a copy of a slice from a DataFrame\n",
      "\n",
      "See the caveats in the documentation: https://pandas.pydata.org/pandas-docs/stable/user_guide/indexing.html#returning-a-view-versus-a-copy\n",
      "  \n",
      "C:\\Users\\thanh\\AppData\\Local\\Packages\\PythonSoftwareFoundation.Python.3.7_qbz5n2kfra8p0\\LocalCache\\local-packages\\Python37\\site-packages\\ipykernel_launcher.py:10: SettingWithCopyWarning: \n",
      "A value is trying to be set on a copy of a slice from a DataFrame\n",
      "\n",
      "See the caveats in the documentation: https://pandas.pydata.org/pandas-docs/stable/user_guide/indexing.html#returning-a-view-versus-a-copy\n",
      "  # Remove the CWD from sys.path while we load stuff.\n"
     ]
    }
   ],
   "source": [
    "for i in range(len(df_new_music['DrivingStyle'])): \n",
    "    if df_new_music['DrivingStyle'].values[i] <np.mean(df_new_music['DrivingStyle'].values):\n",
    "        df_new_music['DrivingStyle'][i]=1\n",
    "    else: \n",
    "        df_new_music['DrivingStyle'][i]=2\n",
    "for i in range(len(df_new_music['sleepiness'])): \n",
    "    if df_new_music['sleepiness'].values[i] <np.mean(df_new_music['sleepiness'].values):\n",
    "        df_new_music['sleepiness'][i]=1\n",
    "    else: \n",
    "        df_new_music['sleepiness'][i]=2"
   ]
  },
  {
   "cell_type": "code",
   "execution_count": 87,
   "metadata": {},
   "outputs": [
    {
     "name": "stderr",
     "output_type": "stream",
     "text": [
      "C:\\Users\\thanh\\AppData\\Local\\Packages\\PythonSoftwareFoundation.Python.3.7_qbz5n2kfra8p0\\LocalCache\\local-packages\\Python37\\site-packages\\ipykernel_launcher.py:5: SettingWithCopyWarning: \n",
      "A value is trying to be set on a copy of a slice from a DataFrame\n",
      "\n",
      "See the caveats in the documentation: https://pandas.pydata.org/pandas-docs/stable/user_guide/indexing.html#returning-a-view-versus-a-copy\n",
      "  \"\"\"\n",
      "C:\\Users\\thanh\\AppData\\Local\\Packages\\PythonSoftwareFoundation.Python.3.7_qbz5n2kfra8p0\\LocalCache\\local-packages\\Python37\\site-packages\\ipykernel_launcher.py:7: SettingWithCopyWarning: \n",
      "A value is trying to be set on a copy of a slice from a DataFrame\n",
      "\n",
      "See the caveats in the documentation: https://pandas.pydata.org/pandas-docs/stable/user_guide/indexing.html#returning-a-view-versus-a-copy\n",
      "  import sys\n",
      "C:\\Users\\thanh\\AppData\\Local\\Packages\\PythonSoftwareFoundation.Python.3.7_qbz5n2kfra8p0\\LocalCache\\local-packages\\Python37\\site-packages\\ipykernel_launcher.py:3: SettingWithCopyWarning: \n",
      "A value is trying to be set on a copy of a slice from a DataFrame\n",
      "\n",
      "See the caveats in the documentation: https://pandas.pydata.org/pandas-docs/stable/user_guide/indexing.html#returning-a-view-versus-a-copy\n",
      "  This is separate from the ipykernel package so we can avoid doing imports until\n",
      "C:\\Users\\thanh\\AppData\\Local\\Packages\\PythonSoftwareFoundation.Python.3.7_qbz5n2kfra8p0\\LocalCache\\local-packages\\Python37\\site-packages\\ipykernel_launcher.py:15: SettingWithCopyWarning: \n",
      "A value is trying to be set on a copy of a slice from a DataFrame\n",
      "\n",
      "See the caveats in the documentation: https://pandas.pydata.org/pandas-docs/stable/user_guide/indexing.html#returning-a-view-versus-a-copy\n",
      "  from ipykernel import kernelapp as app\n",
      "C:\\Users\\thanh\\AppData\\Local\\Packages\\PythonSoftwareFoundation.Python.3.7_qbz5n2kfra8p0\\LocalCache\\local-packages\\Python37\\site-packages\\ipykernel_launcher.py:11: SettingWithCopyWarning: \n",
      "A value is trying to be set on a copy of a slice from a DataFrame\n",
      "\n",
      "See the caveats in the documentation: https://pandas.pydata.org/pandas-docs/stable/user_guide/indexing.html#returning-a-view-versus-a-copy\n",
      "  # This is added back by InteractiveShellApp.init_path()\n",
      "C:\\Users\\thanh\\AppData\\Local\\Packages\\PythonSoftwareFoundation.Python.3.7_qbz5n2kfra8p0\\LocalCache\\local-packages\\Python37\\site-packages\\ipykernel_launcher.py:13: SettingWithCopyWarning: \n",
      "A value is trying to be set on a copy of a slice from a DataFrame\n",
      "\n",
      "See the caveats in the documentation: https://pandas.pydata.org/pandas-docs/stable/user_guide/indexing.html#returning-a-view-versus-a-copy\n",
      "  del sys.path[0]\n"
     ]
    }
   ],
   "source": [
    "for i in range(len(df_new_music['RoadType'].values)): \n",
    "    if df_new_music['RoadType'].values[i] <1.099506:\n",
    "        df_new_music['RoadType'][i]=1\n",
    "    elif df_new_music['RoadType'].values[i] <1.117406 and df_new_music['RoadType'].values[i]>1.099506: \n",
    "        df_new_music['RoadType'][i]=2\n",
    "    else: \n",
    "        df_new_music['RoadType'][i]=3\n",
    "        \n",
    "for i in range(len(df_new_music['trafficConditions'].values)): \n",
    "    if df_new_music['trafficConditions'].values[i] <1.101077:\n",
    "        df_new_music['trafficConditions'][i]=1\n",
    "    elif df_new_music['trafficConditions'].values[i] <1.111914 and df_new_music['trafficConditions'].values[i]>1.101077: \n",
    "        df_new_music['trafficConditions'][i]=2\n",
    "    else: \n",
    "        df_new_music['trafficConditions'][i]=3"
   ]
  },
  {
   "cell_type": "code",
   "execution_count": 88,
   "metadata": {},
   "outputs": [
    {
     "data": {
      "text/plain": [
       "count    4012.000000\n",
       "mean        1.459421\n",
       "std         0.556032\n",
       "min         1.038227\n",
       "25%         1.181863\n",
       "50%         1.208550\n",
       "75%         1.247963\n",
       "max         2.960096\n",
       "Name: weather, dtype: float64"
      ]
     },
     "execution_count": 88,
     "metadata": {},
     "output_type": "execute_result"
    }
   ],
   "source": [
    "df_new_music['weather'].describe()"
   ]
  },
  {
   "cell_type": "code",
   "execution_count": 89,
   "metadata": {},
   "outputs": [
    {
     "name": "stderr",
     "output_type": "stream",
     "text": [
      "C:\\Users\\thanh\\AppData\\Local\\Packages\\PythonSoftwareFoundation.Python.3.7_qbz5n2kfra8p0\\LocalCache\\local-packages\\Python37\\site-packages\\ipykernel_launcher.py:5: SettingWithCopyWarning: \n",
      "A value is trying to be set on a copy of a slice from a DataFrame\n",
      "\n",
      "See the caveats in the documentation: https://pandas.pydata.org/pandas-docs/stable/user_guide/indexing.html#returning-a-view-versus-a-copy\n",
      "  \"\"\"\n",
      "C:\\Users\\thanh\\AppData\\Local\\Packages\\PythonSoftwareFoundation.Python.3.7_qbz5n2kfra8p0\\LocalCache\\local-packages\\Python37\\site-packages\\ipykernel_launcher.py:9: SettingWithCopyWarning: \n",
      "A value is trying to be set on a copy of a slice from a DataFrame\n",
      "\n",
      "See the caveats in the documentation: https://pandas.pydata.org/pandas-docs/stable/user_guide/indexing.html#returning-a-view-versus-a-copy\n",
      "  if __name__ == \"__main__\":\n",
      "C:\\Users\\thanh\\AppData\\Local\\Packages\\PythonSoftwareFoundation.Python.3.7_qbz5n2kfra8p0\\LocalCache\\local-packages\\Python37\\site-packages\\ipykernel_launcher.py:3: SettingWithCopyWarning: \n",
      "A value is trying to be set on a copy of a slice from a DataFrame\n",
      "\n",
      "See the caveats in the documentation: https://pandas.pydata.org/pandas-docs/stable/user_guide/indexing.html#returning-a-view-versus-a-copy\n",
      "  This is separate from the ipykernel package so we can avoid doing imports until\n",
      "C:\\Users\\thanh\\AppData\\Local\\Packages\\PythonSoftwareFoundation.Python.3.7_qbz5n2kfra8p0\\LocalCache\\local-packages\\Python37\\site-packages\\ipykernel_launcher.py:15: SettingWithCopyWarning: \n",
      "A value is trying to be set on a copy of a slice from a DataFrame\n",
      "\n",
      "See the caveats in the documentation: https://pandas.pydata.org/pandas-docs/stable/user_guide/indexing.html#returning-a-view-versus-a-copy\n",
      "  from ipykernel import kernelapp as app\n",
      "C:\\Users\\thanh\\AppData\\Local\\Packages\\PythonSoftwareFoundation.Python.3.7_qbz5n2kfra8p0\\LocalCache\\local-packages\\Python37\\site-packages\\ipykernel_launcher.py:19: SettingWithCopyWarning: \n",
      "A value is trying to be set on a copy of a slice from a DataFrame\n",
      "\n",
      "See the caveats in the documentation: https://pandas.pydata.org/pandas-docs/stable/user_guide/indexing.html#returning-a-view-versus-a-copy\n",
      "C:\\Users\\thanh\\AppData\\Local\\Packages\\PythonSoftwareFoundation.Python.3.7_qbz5n2kfra8p0\\LocalCache\\local-packages\\Python37\\site-packages\\ipykernel_launcher.py:13: SettingWithCopyWarning: \n",
      "A value is trying to be set on a copy of a slice from a DataFrame\n",
      "\n",
      "See the caveats in the documentation: https://pandas.pydata.org/pandas-docs/stable/user_guide/indexing.html#returning-a-view-versus-a-copy\n",
      "  del sys.path[0]\n",
      "C:\\Users\\thanh\\AppData\\Local\\Packages\\PythonSoftwareFoundation.Python.3.7_qbz5n2kfra8p0\\LocalCache\\local-packages\\Python37\\site-packages\\ipykernel_launcher.py:25: SettingWithCopyWarning: \n",
      "A value is trying to be set on a copy of a slice from a DataFrame\n",
      "\n",
      "See the caveats in the documentation: https://pandas.pydata.org/pandas-docs/stable/user_guide/indexing.html#returning-a-view-versus-a-copy\n",
      "C:\\Users\\thanh\\AppData\\Local\\Packages\\PythonSoftwareFoundation.Python.3.7_qbz5n2kfra8p0\\LocalCache\\local-packages\\Python37\\site-packages\\ipykernel_launcher.py:29: SettingWithCopyWarning: \n",
      "A value is trying to be set on a copy of a slice from a DataFrame\n",
      "\n",
      "See the caveats in the documentation: https://pandas.pydata.org/pandas-docs/stable/user_guide/indexing.html#returning-a-view-versus-a-copy\n",
      "C:\\Users\\thanh\\AppData\\Local\\Packages\\PythonSoftwareFoundation.Python.3.7_qbz5n2kfra8p0\\LocalCache\\local-packages\\Python37\\site-packages\\ipykernel_launcher.py:23: SettingWithCopyWarning: \n",
      "A value is trying to be set on a copy of a slice from a DataFrame\n",
      "\n",
      "See the caveats in the documentation: https://pandas.pydata.org/pandas-docs/stable/user_guide/indexing.html#returning-a-view-versus-a-copy\n",
      "C:\\Users\\thanh\\AppData\\Local\\Packages\\PythonSoftwareFoundation.Python.3.7_qbz5n2kfra8p0\\LocalCache\\local-packages\\Python37\\site-packages\\ipykernel_launcher.py:39: SettingWithCopyWarning: \n",
      "A value is trying to be set on a copy of a slice from a DataFrame\n",
      "\n",
      "See the caveats in the documentation: https://pandas.pydata.org/pandas-docs/stable/user_guide/indexing.html#returning-a-view-versus-a-copy\n",
      "C:\\Users\\thanh\\AppData\\Local\\Packages\\PythonSoftwareFoundation.Python.3.7_qbz5n2kfra8p0\\LocalCache\\local-packages\\Python37\\site-packages\\ipykernel_launcher.py:35: SettingWithCopyWarning: \n",
      "A value is trying to be set on a copy of a slice from a DataFrame\n",
      "\n",
      "See the caveats in the documentation: https://pandas.pydata.org/pandas-docs/stable/user_guide/indexing.html#returning-a-view-versus-a-copy\n",
      "C:\\Users\\thanh\\AppData\\Local\\Packages\\PythonSoftwareFoundation.Python.3.7_qbz5n2kfra8p0\\LocalCache\\local-packages\\Python37\\site-packages\\ipykernel_launcher.py:33: SettingWithCopyWarning: \n",
      "A value is trying to be set on a copy of a slice from a DataFrame\n",
      "\n",
      "See the caveats in the documentation: https://pandas.pydata.org/pandas-docs/stable/user_guide/indexing.html#returning-a-view-versus-a-copy\n"
     ]
    }
   ],
   "source": [
    "for i in range(len(df_new_music['landscape'].values)): \n",
    "    if df_new_music['landscape'].values[i] <1.106847:\n",
    "        df_new_music['landscape'][i]=1\n",
    "    elif df_new_music['landscape'].values[i] <1.217880 and df_new_music['landscape'].values[i]>1.106847: \n",
    "        df_new_music['landscape'][i]=2\n",
    "    elif df_new_music['landscape'].values[i] <1.159713 and df_new_music['landscape'].values[i]>1.217880: \n",
    "        df_new_music['landscape'][i]=3\n",
    "    else: \n",
    "        df_new_music['landscape'][i]=4\n",
    "        \n",
    "for i in range(len(df_new_music['mood'].values)): \n",
    "    if df_new_music['mood'].values[i] <1.137888:\n",
    "        df_new_music['mood'][i]=1\n",
    "    elif df_new_music['mood'].values[i] <1.209979 and df_new_music['mood'].values[i]>1.137888: \n",
    "        df_new_music['mood'][i]=2\n",
    "    elif df_new_music['mood'].values[i] <1.154953 and df_new_music['mood'].values[i]>1.209979: \n",
    "        df_new_music['mood'][i]=3\n",
    "    else: \n",
    "        df_new_music['mood'][i]=4\n",
    "        \n",
    "for i in range(len(df_new_music['naturalphenomena '].values)): \n",
    "    if df_new_music['naturalphenomena '].values[i] <1.141364:\n",
    "        df_new_music['naturalphenomena '][i]=1\n",
    "    elif df_new_music['naturalphenomena '].values[i] <1.210127 and df_new_music['naturalphenomena '].values[i]>1.141364: \n",
    "        df_new_music['naturalphenomena '][i]=2\n",
    "    elif df_new_music['naturalphenomena '].values[i] <1.157535 and df_new_music['naturalphenomena '].values[i]>1.210127: \n",
    "        df_new_music['naturalphenomena '][i]=3\n",
    "    else: \n",
    "        df_new_music['naturalphenomena '][i]=4\n",
    "        \n",
    "for i in range(len(df_new_music['weather'].values)): \n",
    "    if df_new_music['weather'].values[i] <1.126218:\n",
    "        df_new_music['weather'][i]=1\n",
    "    elif df_new_music['weather'].values[i] <1.199190 and df_new_music['weather'].values[i]>1.126218: \n",
    "        df_new_music['weather'][i]=2\n",
    "    elif df_new_music['weather'].values[i] <1.143596 and df_new_music['weather'].values[i]>1.199190: \n",
    "        df_new_music['weather'][i]=3\n",
    "    else: \n",
    "        df_new_music['weather'][i]=4"
   ]
  },
  {
   "cell_type": "code",
   "execution_count": 91,
   "metadata": {},
   "outputs": [],
   "source": [
    "df_new_music.to_csv('music_full.csv')"
   ]
  },
  {
   "attachments": {},
   "cell_type": "markdown",
   "metadata": {},
   "source": [
    "# Movie Depaul"
   ]
  },
  {
   "cell_type": "code",
   "execution_count": 41,
   "metadata": {},
   "outputs": [
    {
     "name": "stdout",
     "output_type": "stream",
     "text": [
      "[nan 'Cinema' 'Home']\n",
      "[nan 'Alone' 'Family' 'Partner']\n",
      "[nan 'Weekday' 'Weekend']\n"
     ]
    }
   ],
   "source": [
    "from sklearn.preprocessing import LabelEncoder\n",
    "df = pd.read_csv('C:/Users/thanh/OneDrive - Queensland University of Technology/dataPHD/Movie_DePaul/Movie_DePaulMovie/ratings.txt',sep=',')\n",
    "enconder = LabelEncoder()\n",
    "df['itemid'] = enconder.fit_transform(df['itemid'])\n",
    "print(df['Location'].unique())\n",
    "print(df['Companion'].unique())\n",
    "print(df['Time'].unique())\n",
    "map_location= {'Cinema':1, 'Home':2}\n",
    "map_time= {'Weekday':1, 'Weekend':2}\n",
    "map_com= {'Alone':1, 'Family':2, 'Partner':3}\n",
    "df['Location'] = df['Location'].map(map_location)\n",
    "df['Companion'] = df['Companion'].map(map_com)\n",
    "df['Time'] = df['Time'].map(map_time)"
   ]
  },
  {
   "cell_type": "code",
   "execution_count": 42,
   "metadata": {},
   "outputs": [],
   "source": [
    "df = df.fillna(0)"
   ]
  },
  {
   "cell_type": "code",
   "execution_count": 43,
   "metadata": {},
   "outputs": [
    {
     "data": {
      "text/plain": [
       "array([[1.123e+03, 5.800e+01, 0.000e+00, 0.000e+00, 0.000e+00, 2.000e+00],\n",
       "       [1.123e+03, 3.300e+01, 0.000e+00, 0.000e+00, 0.000e+00, 4.000e+00],\n",
       "       [1.123e+03, 1.000e+00, 0.000e+00, 0.000e+00, 0.000e+00, 5.000e+00],\n",
       "       ...,\n",
       "       [1.082e+03, 2.500e+01, 2.000e+00, 2.000e+00, 3.000e+00, 1.000e+00],\n",
       "       [1.082e+03, 5.000e+01, 2.000e+00, 2.000e+00, 3.000e+00, 1.000e+00],\n",
       "       [1.082e+03, 4.900e+01, 2.000e+00, 2.000e+00, 3.000e+00, 1.000e+00]])"
      ]
     },
     "execution_count": 43,
     "metadata": {},
     "output_type": "execute_result"
    }
   ],
   "source": [
    "import pandas as pd\n",
    "\n",
    "# Assuming you have a DataFrame 'df' with the given columns\n",
    "columns_reordered = ['userid', 'itemid', 'Time', 'Location', 'Companion', 'rating']\n",
    "df_reordered = df[columns_reordered]\n",
    "\n",
    "df_reordered.values\n"
   ]
  },
  {
   "cell_type": "code",
   "execution_count": 44,
   "metadata": {},
   "outputs": [],
   "source": [
    "# np.savetxt('data.txt', df_reordered.values, fmt='%.2f')\n"
   ]
  },
  {
   "cell_type": "code",
   "execution_count": 38,
   "metadata": {},
   "outputs": [],
   "source": [
    "import pickle\n",
    "import numpy as np\n",
    "re = 'C:/Users/thanh/OneDrive - Queensland University of Technology/dataPHD/GrapeAlgorithm/GRAPE/uci/test/concrete/0/result.pkl'\n",
    "# re = 'C:/Users/thanh/OneDrive - Queensland University of Technology/dataPHD/GrapeAlgorithm/GRAPE/uci/test/naval/0/result.pkl'\n",
    "with open(re, 'rb') as f:\n",
    "    # Load the data from the file\n",
    "    s = pickle.load(f)\n",
    "from sklearn.preprocessing import MinMaxScaler\n",
    "scaler = MinMaxScaler()\n",
    "result= np.hstack((s['outputs']['final_pred_train'], s['outputs']['final_pred_test']))\n",
    "r = result.reshape(df_reordered.iloc[:,:5].shape)\n",
    "scaler.fit(df_reordered.iloc[:,:5])\n",
    "sca=pd.DataFrame(scaler.inverse_transform(r))\n",
    "\n",
    "df_reordered.iloc[:, 2:-1] = sca.iloc[:, 2:]\n",
    "# df_reordered.to_csv('depaul_full.csv')"
   ]
  },
  {
   "cell_type": "code",
   "execution_count": 39,
   "metadata": {},
   "outputs": [
    {
     "data": {
      "text/plain": [
       "0       1.035396\n",
       "1       0.915090\n",
       "2       0.887048\n",
       "3       0.963447\n",
       "4       1.016849\n",
       "          ...   \n",
       "5038    0.950962\n",
       "5039    1.043041\n",
       "5040    0.948685\n",
       "5041    0.923839\n",
       "5042    0.956511\n",
       "Name: Time, Length: 5043, dtype: float32"
      ]
     },
     "execution_count": 39,
     "metadata": {},
     "output_type": "execute_result"
    }
   ],
   "source": [
    "df_reordered['Time']"
   ]
  },
  {
   "cell_type": "code",
   "execution_count": 46,
   "metadata": {},
   "outputs": [
    {
     "name": "stderr",
     "output_type": "stream",
     "text": [
      "C:\\Users\\thanh\\AppData\\Local\\Packages\\PythonSoftwareFoundation.Python.3.7_qbz5n2kfra8p0\\LocalCache\\local-packages\\Python37\\site-packages\\ipykernel_launcher.py:3: SettingWithCopyWarning: \n",
      "A value is trying to be set on a copy of a slice from a DataFrame\n",
      "\n",
      "See the caveats in the documentation: https://pandas.pydata.org/pandas-docs/stable/user_guide/indexing.html#returning-a-view-versus-a-copy\n",
      "  This is separate from the ipykernel package so we can avoid doing imports until\n",
      "C:\\Users\\thanh\\AppData\\Local\\Packages\\PythonSoftwareFoundation.Python.3.7_qbz5n2kfra8p0\\LocalCache\\local-packages\\Python37\\site-packages\\ipykernel_launcher.py:5: SettingWithCopyWarning: \n",
      "A value is trying to be set on a copy of a slice from a DataFrame\n",
      "\n",
      "See the caveats in the documentation: https://pandas.pydata.org/pandas-docs/stable/user_guide/indexing.html#returning-a-view-versus-a-copy\n",
      "  \"\"\"\n",
      "C:\\Users\\thanh\\AppData\\Local\\Packages\\PythonSoftwareFoundation.Python.3.7_qbz5n2kfra8p0\\LocalCache\\local-packages\\Python37\\site-packages\\ipykernel_launcher.py:9: SettingWithCopyWarning: \n",
      "A value is trying to be set on a copy of a slice from a DataFrame\n",
      "\n",
      "See the caveats in the documentation: https://pandas.pydata.org/pandas-docs/stable/user_guide/indexing.html#returning-a-view-versus-a-copy\n",
      "  if __name__ == \"__main__\":\n",
      "C:\\Users\\thanh\\AppData\\Local\\Packages\\PythonSoftwareFoundation.Python.3.7_qbz5n2kfra8p0\\LocalCache\\local-packages\\Python37\\site-packages\\ipykernel_launcher.py:11: SettingWithCopyWarning: \n",
      "A value is trying to be set on a copy of a slice from a DataFrame\n",
      "\n",
      "See the caveats in the documentation: https://pandas.pydata.org/pandas-docs/stable/user_guide/indexing.html#returning-a-view-versus-a-copy\n",
      "  # This is added back by InteractiveShellApp.init_path()\n",
      "C:\\Users\\thanh\\AppData\\Local\\Packages\\PythonSoftwareFoundation.Python.3.7_qbz5n2kfra8p0\\LocalCache\\local-packages\\Python37\\site-packages\\ipykernel_launcher.py:15: SettingWithCopyWarning: \n",
      "A value is trying to be set on a copy of a slice from a DataFrame\n",
      "\n",
      "See the caveats in the documentation: https://pandas.pydata.org/pandas-docs/stable/user_guide/indexing.html#returning-a-view-versus-a-copy\n",
      "  from ipykernel import kernelapp as app\n",
      "C:\\Users\\thanh\\AppData\\Local\\Packages\\PythonSoftwareFoundation.Python.3.7_qbz5n2kfra8p0\\LocalCache\\local-packages\\Python37\\site-packages\\ipykernel_launcher.py:19: SettingWithCopyWarning: \n",
      "A value is trying to be set on a copy of a slice from a DataFrame\n",
      "\n",
      "See the caveats in the documentation: https://pandas.pydata.org/pandas-docs/stable/user_guide/indexing.html#returning-a-view-versus-a-copy\n"
     ]
    }
   ],
   "source": [
    "for i in range(len(df_reordered['Time'])): \n",
    "    if df_reordered['Time'].values[i] <np.mean(df_reordered['Time'].values):\n",
    "        df_reordered['Time'][i]=1\n",
    "    else: \n",
    "        df_reordered['Time'][i]=2\n",
    "np.mean(df_reordered['Location'].values)\n",
    "for i in range(len(df_reordered['Location'].values)): \n",
    "    if df_reordered['Location'].values[i] <np.mean(df_reordered['Location'].values):\n",
    "        df_reordered['Location'][i]=1\n",
    "    else: \n",
    "        df_reordered['Location'][i]=2\n",
    "\n",
    "for i in range(len(df_reordered['Companion'].values)): \n",
    "    if df_reordered['Companion'].values[i] <1.399089:\n",
    "        df_reordered['Companion'][i]=1\n",
    "    elif df_reordered['Companion'].values[i] <1.576925 and df_reordered['Companion'].values[i]>1.399089: \n",
    "        df_reordered['Companion'][i]=2\n",
    "    else: \n",
    "        df_reordered['Companion'][i]=3\n",
    "df_reordered.to_csv('depaul_full.csv')"
   ]
  },
  {
   "attachments": {},
   "cell_type": "markdown",
   "metadata": {},
   "source": [
    "# COMMODA"
   ]
  },
  {
   "cell_type": "code",
   "execution_count": 106,
   "metadata": {},
   "outputs": [],
   "source": [
    "path_comoda = 'C:/Users/thanh/OneDrive - Queensland University of Technology/dataPHD/Commoda_data/comoda_data.csv'"
   ]
  },
  {
   "cell_type": "code",
   "execution_count": 107,
   "metadata": {},
   "outputs": [
    {
     "name": "stdout",
     "output_type": "stream",
     "text": [
      "Unique values in column 'age': [ 33  28  30  -1  25  26  29  27  24  34  63  22  21  19  20  15  18  17\n",
      "  23  31  35  36 900  32]\n",
      "Unique values in column 'sex': [1 2]\n",
      "Unique values in column 'city': [20 10  3  6 21 15  2 19  7 13  4 12  8 11 14 16 22  5 17 18  1  9]\n",
      "Unique values in column 'country': [2 3 5 4 1]\n",
      "Unique values in column 'time': [ 3  2  4  1 -1]\n",
      "Unique values in column 'daytype': [ 2  1  3 -1]\n",
      "Unique values in column 'season': [ 2  3  4  1 -1]\n",
      "Unique values in column 'location': [ 1  2  3 -1]\n",
      "Unique values in column 'weather': [ 1  2  5  3  4 -1]\n",
      "Unique values in column 'social': [ 1  2  3  7  5  6  4 -1]\n",
      "Unique values in column 'endEmo': [ 2  1  7  4  6  5  3 -1]\n",
      "Unique values in column 'dominantEmo': [ 2  3  7  1  5  6  4 -1]\n",
      "Unique values in column 'mood': [ 2  1  3 -1]\n",
      "Unique values in column 'physical': [ 1  2 -1]\n",
      "Unique values in column 'decision': [ 1  2 -1]\n",
      "Unique values in column 'interaction': [ 1  2 -1]\n",
      "Unique values in column 'director': [234 775  33 590 488 161 195 346 750 408 618 670 681 446 751 246 571 438\n",
      " 410 808 632 199 487 222 810 503 225 165 400 786 714 529 206  65 756 198\n",
      "  96 549 776 354 376 359 374 292 135 634 546 424 313 416 527 560 434 355\n",
      " 588 321  19 792 450 212 343 556 666 497   9 421 336 718  46 491 230 650\n",
      " 280 139 334 814 178 798  15 141 708 755 467 616 168 401  53 356 106 658\n",
      "  17 524 396 559  27 815 154 565 665   7 568 741 603 669 780 102 397 550\n",
      " 142 812 469 589 360 472 705 782 274 104  97 325 806 181 297 145 646 567\n",
      " 624 200 749 490  48 726 287 248 551 130 370 348 111 278 363  99 521 535\n",
      " 614 169 138 680 262 763 625 393 126 208 694 742  51 207 687 649 544 796\n",
      " 453  -1 762 442  71 538 219 799 628 459 728 279 176 114 129 112 378 663\n",
      " 691 217 184 587 323  12 286  62 526 113 196 558 615 307  73 493  98 158\n",
      " 270  23 160 740 606 542 253 593 347 506 569 804 284 172 227 242 167  47\n",
      " 224 630 761 267 109 517 367 644 734  94 252 144 331 765 433  56 563 660\n",
      " 696 345 140 366 510 787 314 118 793 456 322 429 182 522 155 471 648  93\n",
      " 201  52  41 128 747  57 209 156 772  37 620 700 122  55 794 710 330 693\n",
      " 754 607 255 701 703 318   3   5  21  80 767 667 377 813 264 308 596 444\n",
      " 269 220 639 245 186 215 699 537   8  32 595  91 682 455 341 164 621 800\n",
      " 216 310 807 148 386 583 436 431 577 295 369 101 123  70 329 622 415 721\n",
      "  83 631 769 183 561 151 594 553 809  11  20 781 746 489 533 636 132  77\n",
      " 474 272 686 788 409 591 566 737  95 311 193 320 312 554  58 641 598 389\n",
      "  44 296 254 683 697 465 412 439 163 100 119 502 276 483  42 171 157 251\n",
      " 473 783 357 362 672 218 592 652  29 419 159 247 476 716 744 774 127 513\n",
      " 365 344 428 221 764 629  67 586 552 717 713 283 702 440 388 349 645 413\n",
      " 545 706 449 411 256 516 599 189 540 420 528 657 534 263 188 773 463 337\n",
      " 477 659 541 479 573 655 173 653 194 232  50 738  84 271 261 530 671 285\n",
      " 790 368 643 730 423 536 317  43 626 458 238 661 457 523 454 579 494 233\n",
      " 335 736 293 226 759  16  89 143 575 235 417 149 543 203 211 784 273 309\n",
      " 610 291 213 382 791 584 390 147 403 609 399 518 508 174 177 326 290  74\n",
      " 468 136 281  90 727 266 327 795  36 499  85 426 698 515 445  30   4 485\n",
      " 580 302 789 578 597  64 108 480  68 757 611 748 361 811 282 481 495  76\n",
      " 265 432 492 729  59 637 460 170 633 519  25 547 608 260 407 117 425  81\n",
      " 500 601 785 328 231 379 153 570 405 722 600 684 679  66 617 180 695 204\n",
      " 259 462 692 509 466 257 146  38 301 724 241 654 447 715 443 437 373 507\n",
      " 383 427 803 152 555  13 418 797 712 651 739  63 638  31  54 688 340 520\n",
      "  49 110 585 124 385 562  88  34 531 353 116 324 316 514 704 202 719 372\n",
      " 299 676 604 664 623 642 707 496 430 733 304  92 778 384 486 572 288 582\n",
      " 725 581 709  22 351 448 395  24 134 305 723 350 511 478 627 239  40 192\n",
      " 125 452 371  79 243 685 229 402 190 745 250 640 557 339 214 505 258 338\n",
      "  72 768 187 470   2 249 758 451 398 753  87 635 605 332  69 406 760 777\n",
      " 752 802  61 574 240  82 720 690 689  26 731 441 352   6 210 475  39  45\n",
      " 131 162 394  78 612 461 333  86 743 674 675 236 105 779 805 656 482 512\n",
      " 539 662 115 175 392 602 387 404 381 342 133 532 277 298 504 289 315 501\n",
      " 576 179  14 484 223 137 244 548 185 422 303 107 300 711 294 120 319 103\n",
      " 121 732 677 678 197 619  10 525 673 414  60 498 668 380 435 564 801 375\n",
      "  75 150 191 358 268  18 766 647 735 391 364 613 464 228  35 237 306 166\n",
      "  28 205 770 275 771]\n",
      "Unique values in column 'movieCountry': [36 37 20 13 11 21 32 23 26  7 39 31 18 28 15  9  4 22  8 19 25 14  6 27\n",
      "  3  2 34 35 30 33 38 16 10 12 24  1  5 17 29]\n",
      "Unique values in column 'movieLanguage': [ 9 14 15 26 23 10 21 25  8 24  4  5  3  7 17  2 19 11 22 28 12 16 27 -1\n",
      " 13  6 18 20]\n",
      "Unique values in column 'movieYear': [2007 1998 2008 2010 2003 1971 2005 2009 1991 1993 2006 1990 2004 1995\n",
      " 1980 1994 2001 1999 1984 1997 1996 2002 2000 1973 1986 1992 1983 1985\n",
      " 1970 1988 1982 1902 1979 1972 1974 1967 1950 1989 1977 1968 1955 1981\n",
      " 1963 1959 1953 1976 1987 1969 2011 1939 1978 1954 1962 1944 1952 1975\n",
      " 1948 1942 1960 1956 2012 1961 1964]\n",
      "Unique values in column 'genre1': [ 7  1  3 10 18 19  8 14  9  6 17  4 12 11 -1  2]\n",
      "Unique values in column 'genre2': [-1  6 10 14  8 18  3  7 17 19 21 15 12  4 13  1 23 11 22 16  5 20]\n",
      "Unique values in column 'genre3': [-1 10 18 19 21  8 17  7 13 12 22 15 23 20 16  3 11 14  1  9]\n",
      "Unique values in column 'actor1': [1303 1636 1373 1382   98  482  384  862 1803  190 1635  595 1958  379\n",
      "   74 1877  817 1954 1126  251 1679 1020 1688  861 1957  223  691 1513\n",
      "  951  152 1833  719  246  494  491 1180  526 1347  902  230 1169  869\n",
      "  513 1468  749 1420 1344 1233  863  175 1267 1564  600  476   20 1370\n",
      " 1439  979  437    6 1953  884  541  349   16 1478 1715  344 1241 1121\n",
      " 1437  357  115  290 1659  926 1630 1212  136 1383 1919  982  385  833\n",
      " 1863 1240 1103  925 1622 1025  543 1394 1220  503  680  710  370  684\n",
      "  231 1098 1731 1794 1293 1800  271 1649 1507  660  699  228 1244  507\n",
      "  426   -1 1331  519  172  973  881  574 1871  414  747  142 1592 1466\n",
      "  998  639 1638 1495 1696 1227   80 1611  475  665  969  221 1139 1884\n",
      "  139 1548  237  735 1335   83  911 1340 1866  457  531  621  807 1251\n",
      " 1483 1379  610 1685 1947 1576 1060 1019 1743  895  549 1408 1260 1042\n",
      " 1531 1680  668  704 1857  506    7 1859  127 1519  771 1504 1221  730\n",
      "  386 1073 1604 1272   24 1849  721 1154 1854 1620  452 1749  914  938\n",
      "  580  369  769 1869 1270 1159 1619 1906  765  340 1891 1161 1626 1881\n",
      "  667 1719  790 1713  106 1735  583  720 1456 1174  184 1008   30   40\n",
      " 1747 1561  391 1377  265  219 1200 1975   32  438 1481 1878 1263  615\n",
      " 1875  406 1031 1686  916 1498  445 1985 1786  844 1088  786  746 1617\n",
      " 1516 1684  182  564 1629  446  952  404 1591  310 1277 1332 1782  566\n",
      "   12 1177  102  629 1118  815 1297  677 1761 1920  573 1614  165 1615\n",
      "  558  965  528 1351 1767 1784   90  512 1359  995 1427 1718  224 1283\n",
      "  671 1560 1391 1965  718  116 1208  770 1707  141  197 1714  948 1298\n",
      "  877 1817 1870    5 1499  210  794 1337 1034  855  651 1017  608  131\n",
      " 1500  889  666  270  923  976 1603   50 1678  524  738 1667   52  509\n",
      "  893 1416 1422  562   27  857 1413 1774  259 1327  727 1097 1319 1665\n",
      "  703    4 1001  859 1503  263 1465 1312 1323 1873 1343  470  888 1940\n",
      "  232 1035 1879 1860 1261 1663 1608  191  424  963  325  873 1904  821\n",
      " 1511  433 1075 1725 1692 1153  319  516 1542 1077 1625 1295 1795 1222\n",
      "  602 1170 1168 1120   39  584 1562 1247  850  716 1092 1052  836 1598\n",
      "  276  970  236  321  664 1834 1987 1308 1772 1584  927 1066  847  658\n",
      "  547 1388 1453 1384  936  332  634 1012 1787  234 1578  417  812 1596\n",
      " 1729  227  381 1708  178  556 1748  693  300  978 1695 1709  275 1310\n",
      " 1113 1167  829 1624 1807  839 1022  238 1497  298  751  872 1136 1639\n",
      " 1510  692  785 1315  336 1076 1537  579 1010  447 1846  559 1529 1301\n",
      "  997  856 1582 1171 1922  793  653  930   46 1751 1085  652  378  143\n",
      " 1390 1799  431 1897  196 1508  823 1535 1887  377  532 1276  303  504\n",
      "  121 1455  226  750  597  972  408 1697  124  766 1597  846 1724 1647\n",
      "  828  149 1557 1690  122 1193 1876 1356  264   22  522  631  767 1380\n",
      " 1352 1740  603 1658  338  798 1746 1721 1651 1648  255  312  887  331\n",
      "  487  112  335 1305   70 1994  463  313 1122 1072   34 1623 1055  810\n",
      " 1105  119 1556  274  669 1362  614 1424 1700 1961 1279  493  292 1318\n",
      " 1299  590 1525 1058 1903  942 1051 1602 1867  852  198  110 1933  462\n",
      " 1710  588 1593 1820 1847  173  732 1065 1162 1395 1450  434   99 1245\n",
      " 1853 1972  181 1254  432 1809 1642  439 1780  499  249  581 1366  903\n",
      " 1296 1404 1224  831 1791  645  317 1492  980  551  578 1107 1326 1601\n",
      "  281 1840 1966  315  421 1902  134 1989 1526  890  736 1257 1239  468\n",
      "   44   71 1192 1381  801 1577 1984  403  967  832 1375  617  553  729\n",
      "  851 1974  837 1079  896  866  422  253 1023 1533 1819   10  607 1843\n",
      " 1129  673 1579  291 1402  712 1931  267  294 1014 1929 1458  518   89\n",
      " 1050 1210 1885  109 1071  604  144 1249  894  990  225]\n",
      "Unique values in column 'actor2': [1524 1539 1510   57  385 1190   93   61  251  558 1181  869 1542  316\n",
      "  739  334  931 1763 1122 1003 1969 1103 1225  713 1519 1277   59 1404\n",
      " 1878  416  511 1684 1766  154  368   98 1424 1348  135  224 1009 1624\n",
      "  607   62 1088 1041 1037  162 1416  676 1545  835 1099  121  257 1414\n",
      " 1815  645 1697  647  867  166 1658 1795  366 1267  447  626  263  589\n",
      " 1958 1052  587  553  882 1572  195 1629 1180 1744  657  290 1715  223\n",
      "  672 1133 1476 1790 1076 1622 1091  762 1058  699  503   17 1387   33\n",
      " 1151 1290 1953 1740 1331  591 1054  470  716  849 1588 1668  828 1720\n",
      " 1240   69  948 1874 1344  745 1813  987 1753  165 1657   -1 1097 1768\n",
      "  694  358 1086 1994  169 1357  891  188 1826   38  937  146  960  490\n",
      " 1745 1078 1660  747  704 1108 1314  552 1822  105  807 1917  728 1722\n",
      "  592 1808  667   82  395 1156 1667   58  969  353  965  893  702  826\n",
      " 1849  534 1602 1397 1483 1770   20  213  349 1137 1774 1119  917 1972\n",
      " 1548 1551  139 1454  953   66 1832 1278 1949 1343 1565 1978 1562  513\n",
      " 1478  239  627 1061 1919 1736  203  400  189 1916 1386  613 1921  651\n",
      "  497   24   90  902 1746  595 1334 1094   73  947 1616  357  559  956\n",
      "   89 1841 1509  838  574  916  818 1769  304 1081 1306 1215  537  214\n",
      " 1637 1300  328  286 1560 1392 1164  768 1128  279 1659 1585 1273 1752\n",
      " 1005 1436 1441  821 1284 1439  548 1408 1980  344 1118 1022  526  670\n",
      "  572 1484  543  951 1148  496  780  424 1062  710  168 1875  501 1892\n",
      " 1970  763 1182 1943  635 1072  315 1818 1102 1429  887  913  156 1508\n",
      " 1100 1104  555  345 1046  196  741  360  376 1227 1583 1923  857 1520\n",
      "  199 1195  252  784  691  889 1111  705 1706  132  975  309 1655  988\n",
      "  736  405  492 1021   88 1458 1417  950 1049  522  192  774 1309 1399\n",
      "  832 1997 1013  998   80   23 1918 1975 1460 1701  244 1207 1063  726\n",
      "  886 1986  734  929 1011  369  208  758 1855 1430 1518  410  862  977\n",
      " 1214  649  144  846   30 1889 1252 1792 1757 1367  262  413  974 1756\n",
      "  359 1176 1376  337 1679 1297    5  996  441  686  193  295 1924 1515\n",
      "  876 1120  790  546 1558 1858  964  936  531  355 1026   74  172  364\n",
      " 1024  912 1057 1553  322  561 1160 1866 1900 1015 1828 1906 1907  610\n",
      "  640 1363  431  654 1457  449 1299 1810 1806 1266   45  382 1375  773\n",
      "   64 1018 1467 1739 1890  292  700  106 1216 1067  596  246  346  583\n",
      "  864  301  941 1693  920  409  896  318  866 1074 1500  298 1911  957\n",
      " 1410  924 1573  185  834 1324  585  804 1762  659  859 1854  448 1801\n",
      " 1138 1705  190 1418 1438  397 1674  660  153  875  354  877  342 1487\n",
      "  802 1618 1047  443  921 1725 1336  339 1048  844 1027  599 1271 1527\n",
      " 1640 1398  112  779  530  999  390 1990 1121 1888 1904  624  636  544\n",
      "  819 1912  299 1501 1060  642  540 1268 1503 1028 1143 1494  484  330\n",
      "  904 1451   43  527  697 1488  275  979 1152 1237  577  827 1955  473\n",
      "  554 1401  753  825  856 1694  690 1442 1899   76   92  266 1646 1275\n",
      " 1036  958 1632  536 1354 1976  723  841   29 1020 1680  586 1444  718\n",
      " 1613 1448    8   36  833 1838  794  516  434  582 1374 1322 1511 1742\n",
      "  789 1758 1992 1191  454 1909 1431 1124  938  502  860 1937 1001 1633\n",
      "  245 1226  122   28 1318 1630  601 1274 1031 1213 1857 1966 1372  202\n",
      " 1521 1053  392  157 1676 1942  767 1870   37 1587  388 1931  560 1528\n",
      " 1415 1759 1575 1865 1581 1235   26  775 1313  633 1645   47  519  814\n",
      " 1030  129 1981  978 1887 1040   35  523   78  727 1550  347  311 1584\n",
      " 1497 1568 1663  673 1400    3  171  235  176 1101  270 1979 1673 1559\n",
      "  754 1055 1877 1258   14  273 1368 1203  356  283 1106  966 1090  440\n",
      " 1141 1008 1749 1305 1083  350  521 1360 1093 1098  205  616  848 1493\n",
      "  687  706 1948  375 1323 1538 1117 1619  777  983  116 1311  565  922\n",
      "  806 1281 1452  619 1241  943    2 1829  711 1019  566 1952 1264  746\n",
      "  529 1232  415 1185  945 1189 1289 1536 1423  663 1643  905 1671 1384\n",
      " 1932 1463  991  432 1095 1733  111 1927 1236 1689  499 1802  742 1259\n",
      " 1634  480  861 1823 1814  927 1910  918  655  738 1947 1730   65  391\n",
      "  791  136  436  107  952  335 1941  313  308  277 1361 1959 1514 1179\n",
      " 1349  130 1974  810  934  241 1727  486 1499  372 1196 1546  880 1471\n",
      " 1717 1358  302 1951  430  477 1002 1662  243 1925 1173 1202   94 1477\n",
      " 1472 1242  623 1082 1789 1710  482  962  721  907  475  179 1338 1760\n",
      "  487 1169 1765   51  968 1085  823 1230 1469  611 1627  343 1253  630\n",
      " 1812  683  352  567 1605 1699   31  363 1301   99 1373 1644   81   55\n",
      "  303   46 1413  853 1945 1428  820  809  618 1228 1496 1721  997 1821\n",
      " 1696]\n",
      "Unique values in column 'actor3': [1656 1402 1691 1109 1827  393  715 1378 1376 1657  328 1440 1474 1798\n",
      " 1669 1910  701 1652 1665  788  133  495  171  650 1699  994  314  699\n",
      "    9  429  161 1286  606 1738 1914 1923  900 1467  137 1552  722  155\n",
      "  854  370  997 1600  311 1901 1778   28  870  644 1785  558 1022  170\n",
      "  969 1380  469 1905  362 1924  542 1374 1437  589  175 1243  295 1100\n",
      " 1584  902  998  960 1426 1302 1820 1906 1037  751  385 1303   20  296\n",
      " 1540   90 1861 1998 1534  769  190   60 1146 1113  497  737  909 1522\n",
      "  128 1887 1856  357 1742  290 1964  251  348  985  421  978  450  961\n",
      " 1893  845 1836 1944 1142  891 1848  366 1503  764 1480 1231  193  568\n",
      "   -1  456  762 1596 1348  287  335 1265  284 1675  508  897  435  708\n",
      "  755  117 1319  695  448 1317 1716  704  753 1123  462   41  691 1084\n",
      "  571  204  561 1449  732 1988 1330 1320 1653 1288 1641  728 1132 1219\n",
      "  979  954  467  932 1800 1589 1953  649 1723  856 1125 1052 1567 1119\n",
      " 1640 1667  194  486  472 1852 1872  817  478 1150 1234  893   67  879\n",
      " 1112  643  382  176 1838 1776  776  309  939  535   27 1076  246  682\n",
      " 1930  289  756  100 1562  660 1199 1704   25 1840 1928  517  782  488\n",
      " 1996 1343  516  285  583  811  482 1575 1173 1864 1590  965 1419 1886\n",
      "  402 1396 1178  474 1040  622 1863 1702  269  368 1478 1345  183 1297\n",
      " 1389  515  503 1931   72 1476 1913  215  646 1285  434  814 1740  681\n",
      "  461 1939  787  489  698 1735  106 1585  401  380  258 1342  799  306\n",
      "  355  550 1593   49  200  326  455  211  263  679 1895  772  674  796\n",
      " 1710   86  138 1069  432  282  261  795  955 1571  871 1767 1321  140\n",
      " 1016 1532 1721 1894  846  620  168 1416  718 1878 1287 1594 1140  217\n",
      "  344  454   21 1043  333 1845 1502 1781 1698  361 1373  444 1461  498\n",
      " 1559 1658   71 1405  371 1078  451  783   80  709  231 1741 1198 1539\n",
      "  500 1445 1580  475 1329 1258  992  819  885 1089 1796 1666 1163 1425\n",
      " 1775 1610 1986  537 1007 1479  151   91 1684  887 1323  878  858  373\n",
      "  761 1175  877  247  566  383  944 1644 1002 1151  460 1882  609  752\n",
      "  707 1269 1679 1372 1116 1783  307 1823  239  520 1147  754 1229 1485\n",
      " 1523   56  420  147 1900 1233 1497  741 1006  521 1956 1067   89  638\n",
      "  533  714  164  824  859 1392 1628 1157  984 1114 1346  121 1510  412\n",
      " 1547 1187  327  396  823 1382  230   13 1483 1155 1837 1304   11 1500\n",
      "   77 1732  933 1755 1932  539   85  781  914 1993  906 1008 1041  244\n",
      "  250  547 1915   84  724  177   76  367 1991 1080 1033 1711  563 1874\n",
      "  675  248  598 1209 1517 1294 1898  186  428  118 1936 1433  989  857\n",
      " 1403  297  565  358  466  425  481  398 1825  315 1252 1004  410 1393\n",
      "  206 1935 1350 1365 1411 1661 1512  959 1746 1703  220 1830 1019 1355\n",
      " 1216   68 1967 1938 1880 1367  842   42  805  935 1549 1788 1255 1645\n",
      "  575 1541  612 1555 1672   53  174  505  748  557 1262 1839 1779 1045\n",
      " 1563 1773  688 1000  544 1003  320 1406  189 1574  394 1180 1599  108\n",
      " 1835  778  407 1353 1079 1257 1401 1328 1412 1039  628  843  792  851\n",
      " 1385   96 1371 1144 1251  822 1087 1579 1712 1973  810 1734 1598 1919\n",
      " 1558 1613 1038 1946   18  419 1816 1962  678 1808   74 1131 1130  637\n",
      " 1050  816  800  514 1423 1475  838 1570  915 1543  538 1868 1197 1222\n",
      " 1609 1211  268  101  124 1459  803  662 1620 1101 1186  641  160 1566\n",
      "  868  993 1206 1530 1771 1908  145  530  760 1291 1725  570 1654  180\n",
      "  464 1777 1857 1172 1165 1491  912 1677 1134 1070 1631 1646  483  594\n",
      "  418 1968  605 1824  125 1145 1744 1912 1407  733 1960  657   59 1811\n",
      "  510  103 1850 1505  545  158  216  986  808  167 1977  278 1122  136\n",
      "  901  625  797  465 1619  234 1379 1975 1971  812  148 1010  719 1034\n",
      " 1687 1188  113 1201  725  569 1862  949 1489  126  648  187 1995  790\n",
      "  919  740 1369  860  339  529 1958 1316  485 1733   87  869   30 1196\n",
      "  938  518 1044   19  966 1750  267  749 1217 1664 1616 1764 1266   97\n",
      "  260  940  453 1341  341  999 1982  305 1280  201   15 1246   63  323\n",
      "  272 1506 1250 1056  918 1565 1434 1339 1791  656  865 1256 1793 1031\n",
      " 1866 1218 1624 1983  560  233   75 1277 1337 1473 1194  601 1896 1963\n",
      "  645 1720   54 1127  899 1325  389 1447 1432 1103 1158 1670 1754 1183\n",
      "  256  487  324  391 1318 1135 1797  159  813  593 1409 1223 1310 1292\n",
      " 1726  139 1490  576   48 1606  744  399   57 1463 1126  209 1595  988\n",
      " 1106  661   79 1110 1238 1831  374  743 1204  742  946 1029  479  411\n",
      " 1618  905 1926 1997 1851  458 1737 1526 1883 1404 1621  437  757 1364\n",
      " 1867  717 1462  150  436  696  442 1421  207 1607  423  288  928   98\n",
      "  971 1822 1554  727 1413 1115 1804 1955 1443 1307  163  917 1486  898\n",
      " 1464  830  847  840 1854  212  329  229  685  191 1950  525  365 1184\n",
      "  892   24 1805 1569 1333 1179 1166  351 1241 1681 1842 1873  245  424\n",
      "  527  114 1557 1149  731  477  632  471  908  104 1724   95 1751  120\n",
      " 1248  240  952 1096  123 1482  459 1032 1458 1282 1934 1612  242  673\n",
      " 1683  981 1637  280  293  388 1059  874  531 1728 1205 1650 1682 1064\n",
      " 1844  484  130 1366  222  689  890  473 1544 1068  759  387  427  931\n",
      " 1435 1470 1446  254 1586  910  543  883 1518  218]\n",
      "Unique values in column 'budget': [  9000000  90000000  24000000  60000000  35000000        -1   4000000\n",
      "  20000000  82000000   8000000 110000000  45000000  11000000  30000000\n",
      "  33000000  28000000  10000000 160000000  70000000   5000000  15000000\n",
      " 130000000 150000000  22200000  18000000   1500000  50000000  25000000\n",
      "  32000000  54000000  39000000  40000000  80000000  13000000 100000000\n",
      "   3300000   7000000  82500000 147000000  55000000  68000000   4500000\n",
      " 200000000  52000000  92000000  78000000 190000000   3500000   6000000\n",
      "   1600000  85000000 185000000   6500000  28170000  21000000  16000000\n",
      "  11700000 140000000 250000000    100000   5372848   6900000 137000000\n",
      "  27000000  47000000   3000000  75000000 210000000  65000000   1000000\n",
      "   3400000 125000000     10000 165000000  12500000 170000000  18500000\n",
      "   2000000  17500000  37000000  29000000  21800000 240000000 120000000\n",
      " 225000000 300000000  58000000  94000000  26000000  10800000  63000000\n",
      "  17000000   8500000    200000  36000000 175000000    700000  19000000\n",
      "  48000000     22000  79000000  59000000  42000000   2500000  14000000\n",
      " 115000000    550000  88500000  69000000 105000000  53000000  23600000\n",
      "  22000000 117000000    400000  38000000  43000000 207000000 103000000\n",
      "   7600000  12000000   1300000  51000000    500000   7300000 112000000\n",
      " 102000000  76000000  72000000   1350000 180000000    250000    220000\n",
      "    230000    950000     15000 135000000   9800000   2777000   3800000\n",
      "  93000000   5500000  27500000 113000000    475000   2361000 195000000\n",
      "   8200000   1400000  32500000   7500000    800000  19100000  61000000\n",
      " 163000000     17000  19400000 209000000  95000000  63700000  56000000\n",
      "   9400000  15900000  66000000   3600000  15500000  28500000   3200000\n",
      " 145000000  62000000  57000000 215000000  70500000   1250000 123000000]\n"
     ]
    }
   ],
   "source": [
    "df_comoda = pd.read_csv(path_comoda)\n",
    "for col in df_comoda.iloc[:,3:].columns:\n",
    "    print(f\"Unique values in column '{col}': {df_comoda[col].unique()}\")"
   ]
  },
  {
   "cell_type": "code",
   "execution_count": 108,
   "metadata": {},
   "outputs": [],
   "source": [
    "new_comoda_col = ['userID', 'itemID', 'age', 'sex', 'city', 'country', 'time',\n",
    "       'daytype', 'season', 'location', 'weather', 'social', 'endEmo',\n",
    "       'dominantEmo', 'mood', 'physical', 'decision', 'interaction',\n",
    "       'director', 'movieCountry', 'movieLanguage', 'movieYear', 'genre1',\n",
    "       'genre2', 'genre3', 'actor1', 'actor2', 'actor3', 'budget', 'rating']\n",
    "df_new_comoda = df_comoda[new_comoda_col]"
   ]
  },
  {
   "cell_type": "code",
   "execution_count": 109,
   "metadata": {},
   "outputs": [],
   "source": [
    "df_new_comoda.replace(-1, np.nan, inplace=True)"
   ]
  },
  {
   "cell_type": "code",
   "execution_count": 110,
   "metadata": {},
   "outputs": [],
   "source": [
    "# np.savetxt('data.txt', df_new_comoda.values, fmt='%.2f')\n",
    "import pickle\n",
    "import numpy as np\n",
    "recomoda = 'C:/Users/thanh/OneDrive - Queensland University of Technology/dataPHD/GrapeAlgorithm/GRAPE/uci/test/housing/0/result.pkl'\n",
    "# recomoda = 'C:/Users/thanh/OneDrive - Queensland University of Technology/dataPHD/GrapeAlgorithm/GRAPE/uci/test/naval/0/recomodasult.pkl'\n",
    "with open(recomoda, 'rb') as f:\n",
    "    # Load the data from the file\n",
    "    s = pickle.load(f)\n",
    "from sklearn.preprocessing import MinMaxScaler\n",
    "scaler = MinMaxScaler()\n",
    "result= np.hstack((s['outputs']['final_pred_train'], s['outputs']['final_pred_test']))\n",
    "r = result.reshape(df_new_comoda.iloc[:,:-1].shape)\n",
    "scaler.fit(df_new_comoda.iloc[:,:-1])\n",
    "sca=pd.DataFrame(scaler.inverse_transform(r), columns=new_comoda_col[:-1])\n",
    "\n",
    "# df_new_comoda.iloc[:, 2:-1] = sca.iloc[:, 2:]\n",
    "# df_reordered.to_csv('depaul_full.csv')\n",
    "df_new_comoda= df_new_comoda.combine_first(sca)"
   ]
  },
  {
   "cell_type": "code",
   "execution_count": 112,
   "metadata": {},
   "outputs": [],
   "source": [
    "df_new_comoda.to_csv('comoda_full.csv')"
   ]
  },
  {
   "attachments": {},
   "cell_type": "markdown",
   "metadata": {},
   "source": [
    "# Frappe"
   ]
  },
  {
   "cell_type": "code",
   "execution_count": 2,
   "metadata": {},
   "outputs": [],
   "source": [
    "df_frappe = pd.read_csv('C:/Users/thanh/OneDrive - Queensland University of Technology/dataPHD/Mobile_Frappe/frappe/frappe.csv',sep='\\t')\n",
    "df_frappe['city'].replace(0, np.nan, inplace=True)\n",
    "df_frappe.replace('unknown', np.nan, inplace=True)"
   ]
  },
  {
   "cell_type": "code",
   "execution_count": 6,
   "metadata": {},
   "outputs": [
    {
     "name": "stdout",
     "output_type": "stream",
     "text": [
      "Unique values in column 'daytime': [3 1 2 7 4 5 6]\n",
      "Unique values in column 'weekday': [4 3 2 5 7 6 1]\n",
      "Unique values in column 'isweekend': [1 2]\n",
      "Unique values in column 'homework': [nan  1.  2.]\n",
      "Unique values in column 'cost': [1 2]\n",
      "Unique values in column 'weather': [ 8.  1. nan  3.  4.  7.  2.  6.  5.]\n",
      "Unique values in column 'country': [78. 70. 72. 31. 11. nan 77. 26. 58. 45. 60. 36.  7. 68. 56. 20. 49. 53.\n",
      "  4. 25.  5. 37. 29. 19. 15. 52. 14. 34. 64. 18. 73. 12. 46. 65. 17. 38.\n",
      " 55. 54. 40. 35. 51.  3. 76. 32. 16. 30. 21. 67. 79. 66.  2. 59. 24.  9.\n",
      " 69. 71. 10. 75. 47. 57. 61. 44. 22. 62. 41. 28. 63. 48. 13. 33. 74. 23.\n",
      " 43. 39. 27.  1.  8.  6. 42. 50.]\n",
      "Unique values in column 'city': [ nan  63. 211.  33. 109.  65. 155.  28.  31. 193.  85.  57.  25. 186.\n",
      " 213.  66. 121.  68.  75.  43. 139.   3.  36. 206.  67. 100.  29. 161.\n",
      "  40. 125. 189. 190. 114. 184.  30. 165. 188.  41. 217. 174. 176.  44.\n",
      "  10.  34. 219. 209. 156. 178. 126.  38.  84.   7. 133. 141.  77. 118.\n",
      "  87. 182. 223.  80. 191.  11. 149. 151. 119.  98. 179. 147. 117.  26.\n",
      "   1. 128. 164.   9.  78.  55.  97.  42. 199. 129.  92. 132. 205.  56.\n",
      "  59. 170. 226. 228.   5.  79. 167. 185. 210.  86.  69. 110.  76. 198.\n",
      " 196. 218.  27. 227. 137. 208. 160. 215.  73. 154. 225. 200.   4.  72.\n",
      " 159. 201.  14. 108.  95. 216.   6.  52. 231.  51.  53. 124. 127. 166.\n",
      " 169.  58. 230. 220.  81. 158. 204. 105. 175. 173. 168. 194. 207. 229.\n",
      "  17.  82. 144. 153. 187. 102. 183. 120.  48. 130.  54.  47. 212.  46.\n",
      " 113.  62.  13. 202. 142. 115. 103. 148.  96. 134. 195. 123.  70.  60.\n",
      "  45.  99.  64. 111. 224.  37. 135.  91.  24.  74. 163.  49. 222. 150.\n",
      " 214.   2. 138.  61.  35. 106. 203.  15.  22. 192. 107. 181. 101.  18.\n",
      "  39. 172.  71. 122. 143.  19. 180. 140. 131.  93.  12. 116.  83. 221.\n",
      " 136.  90.  88.  94. 232. 162.   8. 104. 171. 197.  89. 146. 157.  21.\n",
      " 177. 112.  23.  20.  32. 152.  16.  50. 145.]\n"
     ]
    }
   ],
   "source": [
    "\n",
    "for col in df_frappe.iloc[:,3:].columns:\n",
    "    print(f\"Unique values in column '{col}': {df_frappe[col].unique()}\")"
   ]
  },
  {
   "cell_type": "code",
   "execution_count": 4,
   "metadata": {},
   "outputs": [],
   "source": [
    "df_frappe.iloc[:,3:] = df_frappe.iloc[:,3:].apply(lambda series: pd.Series(\n",
    "    LabelEncoder().fit_transform(series[series.notnull()])+1,\n",
    "    index=series[series.notnull()].index \n",
    "))\n",
    "new_frappe_col = ['user', 'item', 'daytime', 'weekday', 'isweekend', 'homework','cost', 'weather', 'country', 'city', 'cnt']\n",
    "df_new_frappe = df_frappe[new_frappe_col]"
   ]
  },
  {
   "cell_type": "code",
   "execution_count": 5,
   "metadata": {},
   "outputs": [
    {
     "data": {
      "text/html": [
       "<div>\n",
       "<style scoped>\n",
       "    .dataframe tbody tr th:only-of-type {\n",
       "        vertical-align: middle;\n",
       "    }\n",
       "\n",
       "    .dataframe tbody tr th {\n",
       "        vertical-align: top;\n",
       "    }\n",
       "\n",
       "    .dataframe thead th {\n",
       "        text-align: right;\n",
       "    }\n",
       "</style>\n",
       "<table border=\"1\" class=\"dataframe\">\n",
       "  <thead>\n",
       "    <tr style=\"text-align: right;\">\n",
       "      <th></th>\n",
       "      <th>user</th>\n",
       "      <th>item</th>\n",
       "      <th>daytime</th>\n",
       "      <th>weekday</th>\n",
       "      <th>isweekend</th>\n",
       "      <th>homework</th>\n",
       "      <th>cost</th>\n",
       "      <th>weather</th>\n",
       "      <th>country</th>\n",
       "      <th>city</th>\n",
       "      <th>cnt</th>\n",
       "    </tr>\n",
       "  </thead>\n",
       "  <tbody>\n",
       "    <tr>\n",
       "      <th>1</th>\n",
       "      <td>1</td>\n",
       "      <td>1</td>\n",
       "      <td>1</td>\n",
       "      <td>3</td>\n",
       "      <td>1</td>\n",
       "      <td>NaN</td>\n",
       "      <td>1</td>\n",
       "      <td>1.0</td>\n",
       "      <td>70.0</td>\n",
       "      <td>NaN</td>\n",
       "      <td>7</td>\n",
       "    </tr>\n",
       "    <tr>\n",
       "      <th>2</th>\n",
       "      <td>2</td>\n",
       "      <td>2</td>\n",
       "      <td>2</td>\n",
       "      <td>2</td>\n",
       "      <td>2</td>\n",
       "      <td>NaN</td>\n",
       "      <td>1</td>\n",
       "      <td>1.0</td>\n",
       "      <td>70.0</td>\n",
       "      <td>63.0</td>\n",
       "      <td>6</td>\n",
       "    </tr>\n",
       "    <tr>\n",
       "      <th>3</th>\n",
       "      <td>3</td>\n",
       "      <td>3</td>\n",
       "      <td>7</td>\n",
       "      <td>5</td>\n",
       "      <td>2</td>\n",
       "      <td>NaN</td>\n",
       "      <td>1</td>\n",
       "      <td>NaN</td>\n",
       "      <td>78.0</td>\n",
       "      <td>211.0</td>\n",
       "      <td>1</td>\n",
       "    </tr>\n",
       "    <tr>\n",
       "      <th>4</th>\n",
       "      <td>4</td>\n",
       "      <td>4</td>\n",
       "      <td>4</td>\n",
       "      <td>5</td>\n",
       "      <td>2</td>\n",
       "      <td>1.0</td>\n",
       "      <td>1</td>\n",
       "      <td>8.0</td>\n",
       "      <td>72.0</td>\n",
       "      <td>33.0</td>\n",
       "      <td>428</td>\n",
       "    </tr>\n",
       "    <tr>\n",
       "      <th>5</th>\n",
       "      <td>5</td>\n",
       "      <td>5</td>\n",
       "      <td>7</td>\n",
       "      <td>3</td>\n",
       "      <td>1</td>\n",
       "      <td>1.0</td>\n",
       "      <td>1</td>\n",
       "      <td>8.0</td>\n",
       "      <td>70.0</td>\n",
       "      <td>63.0</td>\n",
       "      <td>6</td>\n",
       "    </tr>\n",
       "    <tr>\n",
       "      <th>...</th>\n",
       "      <td>...</td>\n",
       "      <td>...</td>\n",
       "      <td>...</td>\n",
       "      <td>...</td>\n",
       "      <td>...</td>\n",
       "      <td>...</td>\n",
       "      <td>...</td>\n",
       "      <td>...</td>\n",
       "      <td>...</td>\n",
       "      <td>...</td>\n",
       "      <td>...</td>\n",
       "    </tr>\n",
       "    <tr>\n",
       "      <th>96198</th>\n",
       "      <td>110</td>\n",
       "      <td>0</td>\n",
       "      <td>2</td>\n",
       "      <td>4</td>\n",
       "      <td>1</td>\n",
       "      <td>NaN</td>\n",
       "      <td>1</td>\n",
       "      <td>8.0</td>\n",
       "      <td>78.0</td>\n",
       "      <td>NaN</td>\n",
       "      <td>5</td>\n",
       "    </tr>\n",
       "    <tr>\n",
       "      <th>96199</th>\n",
       "      <td>37</td>\n",
       "      <td>16</td>\n",
       "      <td>7</td>\n",
       "      <td>4</td>\n",
       "      <td>1</td>\n",
       "      <td>NaN</td>\n",
       "      <td>1</td>\n",
       "      <td>1.0</td>\n",
       "      <td>11.0</td>\n",
       "      <td>25.0</td>\n",
       "      <td>101</td>\n",
       "    </tr>\n",
       "    <tr>\n",
       "      <th>96200</th>\n",
       "      <td>181</td>\n",
       "      <td>33</td>\n",
       "      <td>1</td>\n",
       "      <td>4</td>\n",
       "      <td>1</td>\n",
       "      <td>NaN</td>\n",
       "      <td>1</td>\n",
       "      <td>1.0</td>\n",
       "      <td>36.0</td>\n",
       "      <td>100.0</td>\n",
       "      <td>243</td>\n",
       "    </tr>\n",
       "    <tr>\n",
       "      <th>96201</th>\n",
       "      <td>451</td>\n",
       "      <td>752</td>\n",
       "      <td>2</td>\n",
       "      <td>4</td>\n",
       "      <td>1</td>\n",
       "      <td>NaN</td>\n",
       "      <td>1</td>\n",
       "      <td>8.0</td>\n",
       "      <td>78.0</td>\n",
       "      <td>NaN</td>\n",
       "      <td>1</td>\n",
       "    </tr>\n",
       "    <tr>\n",
       "      <th>96202</th>\n",
       "      <td>364</td>\n",
       "      <td>380</td>\n",
       "      <td>2</td>\n",
       "      <td>5</td>\n",
       "      <td>2</td>\n",
       "      <td>NaN</td>\n",
       "      <td>1</td>\n",
       "      <td>1.0</td>\n",
       "      <td>78.0</td>\n",
       "      <td>NaN</td>\n",
       "      <td>3</td>\n",
       "    </tr>\n",
       "  </tbody>\n",
       "</table>\n",
       "<p>96202 rows × 11 columns</p>\n",
       "</div>"
      ],
      "text/plain": [
       "       user  item  daytime  weekday  isweekend  homework  cost  weather  \\\n",
       "1         1     1        1        3          1       NaN     1      1.0   \n",
       "2         2     2        2        2          2       NaN     1      1.0   \n",
       "3         3     3        7        5          2       NaN     1      NaN   \n",
       "4         4     4        4        5          2       1.0     1      8.0   \n",
       "5         5     5        7        3          1       1.0     1      8.0   \n",
       "...     ...   ...      ...      ...        ...       ...   ...      ...   \n",
       "96198   110     0        2        4          1       NaN     1      8.0   \n",
       "96199    37    16        7        4          1       NaN     1      1.0   \n",
       "96200   181    33        1        4          1       NaN     1      1.0   \n",
       "96201   451   752        2        4          1       NaN     1      8.0   \n",
       "96202   364   380        2        5          2       NaN     1      1.0   \n",
       "\n",
       "       country   city  cnt  \n",
       "1         70.0    NaN    7  \n",
       "2         70.0   63.0    6  \n",
       "3         78.0  211.0    1  \n",
       "4         72.0   33.0  428  \n",
       "5         70.0   63.0    6  \n",
       "...        ...    ...  ...  \n",
       "96198     78.0    NaN    5  \n",
       "96199     11.0   25.0  101  \n",
       "96200     36.0  100.0  243  \n",
       "96201     78.0    NaN    1  \n",
       "96202     78.0    NaN    3  \n",
       "\n",
       "[96202 rows x 11 columns]"
      ]
     },
     "execution_count": 5,
     "metadata": {},
     "output_type": "execute_result"
    }
   ],
   "source": [
    "df_new_frappe = df_new_frappe.drop([0])\n",
    "df_new_frappe"
   ]
  },
  {
   "cell_type": "code",
   "execution_count": 11,
   "metadata": {},
   "outputs": [],
   "source": [
    "# np.savetxt('data.txt', df_new_frappe.fillna(0).values, fmt='%.2f')\n",
    "import pickle\n",
    "refrappe = 'C:/Users/thanh/OneDrive - Queensland University of Technology/dataPHD/GrapeAlgorithm/GRAPE/uci/test/kin8nm/0/result.pkl'\n",
    "# refrappe = 'C:/Users/thanh/OneDrive - Queensland University of Technology/dataPHD/GrapeAlgorithm/GRAPE/uci/test/naval/0/refrappesult.pkl'\n",
    "with open(refrappe, 'rb') as f:\n",
    "    # Load the data from the file\n",
    "    s = pickle.load(f)\n",
    "from sklearn.preprocessing import MinMaxScaler\n",
    "scaler = MinMaxScaler()\n",
    "result= np.hstack((s['outputs']['final_pred_train'], s['outputs']['final_pred_test']))\n",
    "r = result.reshape(df_new_frappe.iloc[:,:-1].shape)\n",
    "scaler.fit(df_new_frappe.iloc[:,:-1])\n",
    "sca=pd.DataFrame(scaler.inverse_transform(r), columns=new_frappe_col[:-1])\n",
    "\n",
    "# df_new_frappe.iloc[:, 2:-1] = sca.iloc[:, 2:]\n",
    "# df_reordered.to_csv('depaul_full.csv')\n",
    "df_new_frappe.iloc[:,:-1]= df_new_frappe.iloc[:,:-1].combine_first(sca)\n",
    "df_new_frappe = np.round(df_new_frappe)"
   ]
  },
  {
   "cell_type": "code",
   "execution_count": 13,
   "metadata": {},
   "outputs": [],
   "source": [
    "df_new_frappe.to_csv(\"frappe_full.csv\")"
   ]
  },
  {
   "attachments": {},
   "cell_type": "markdown",
   "metadata": {},
   "source": [
    "# Travel STS"
   ]
  },
  {
   "cell_type": "code",
   "execution_count": 126,
   "metadata": {},
   "outputs": [],
   "source": [
    "df_travel = pd.read_csv('C:/Users/thanh/OneDrive - Queensland University of Technology/dataPHD/Travel_STS/Data_STS.csv', sep='\\t').drop(columns=['creationDate','birthDate'])\n",
    "gender = {'m':1,'f':2}\n",
    "df_travel['gender']=df_travel['gender'].map(gender)"
   ]
  },
  {
   "cell_type": "code",
   "execution_count": 127,
   "metadata": {},
   "outputs": [
    {
     "name": "stdout",
     "output_type": "stream",
     "text": [
      "Unique values in column 'gender': [nan  1.  2.]\n",
      "Unique values in column 'opennessToExperience': [nan  6.  5.  4.  3.  7.  2.]\n",
      "Unique values in column 'conscientiousness': [nan  5.  4.  6.  3.  7.  2.  1.]\n",
      "Unique values in column 'extraversion': [nan  4.  1.  3.  5.  6.  2.  7.]\n",
      "Unique values in column 'agreeableness': [nan  4.  5.  3.  6.  2.  7.]\n",
      "Unique values in column 'emotionalStability': [nan  5.  6.  4.  7.  2.  3.]\n",
      "Unique values in column 'distance': [nan  1.  2.]\n",
      "Unique values in column 'timeAvailable': [nan  1.  2.  3.]\n",
      "Unique values in column 'temperature': [ 5. nan  2.  3.  4.  1.  6.]\n",
      "Unique values in column 'crowdedness': [nan  1.  2.  3.]\n",
      "Unique values in column 'knowledgeOfSurroundings': [nan  1.  2.  3.]\n",
      "Unique values in column 'season': [nan  4.  1.  3.  2.]\n",
      "Unique values in column 'budget': [nan  3.  1.  2.]\n",
      "Unique values in column 'daytime': [nan  1.  3.  5.]\n",
      "Unique values in column 'weather': [nan  6.  2.  4.  1.  3.  5.]\n",
      "Unique values in column 'companion': [nan  2.  5.  4.  1.  3.]\n",
      "Unique values in column 'mood': [nan  4.  3.  1.  2.]\n",
      "Unique values in column 'weekday': [nan  2.  1.]\n",
      "Unique values in column 'travelGoal': [nan  6.  5.  1.  4.  9.  3.  7.  2.  8.]\n",
      "Unique values in column 'transport': [nan  2.  3.  1.  4.]\n",
      "Unique values in column 'category1': [ 1  2  3  4  5  6  7  8  9 10 11 12 14 15 16 17 18 19 20 21 22 23 24 27\n",
      " 28 25 29]\n",
      "Unique values in column 'category2': [nan 13. 25. 26.]\n",
      "Unique values in column 'category3': [nan 26.]\n"
     ]
    }
   ],
   "source": [
    "\n",
    "for col in df_travel.iloc[:,3:].columns:\n",
    "    print(f\"Unique values in column '{col}': {df_travel[col].unique()}\")"
   ]
  },
  {
   "cell_type": "code",
   "execution_count": 128,
   "metadata": {},
   "outputs": [],
   "source": [
    "new_travel_col = ['userID', 'itemID',  'gender',\n",
    "       'opennessToExperience', 'conscientiousness', 'extraversion',\n",
    "       'agreeableness', 'emotionalStability', 'distance', 'timeAvailable',\n",
    "       'temperature', 'crowdedness', 'knowledgeOfSurroundings', 'season',\n",
    "       'budget', 'daytime', 'weather', 'companion', 'mood', 'weekday',\n",
    "       'travelGoal', 'transport', 'category1', 'category2', 'category3', 'rating']\n",
    "df_new_travel = df_travel[new_travel_col]"
   ]
  },
  {
   "cell_type": "code",
   "execution_count": 129,
   "metadata": {},
   "outputs": [
    {
     "data": {
      "text/plain": [
       "array([[  1.,   1.,   0., ...,   0.,   0.,   4.],\n",
       "       [  2.,   2.,   0., ...,   0.,   0.,   1.],\n",
       "       [  2.,   2.,   0., ...,   0.,   0.,   1.],\n",
       "       ...,\n",
       "       [324.,  43.,   2., ...,   0.,   0.,   3.],\n",
       "       [324.,  56.,   2., ...,   0.,   0.,   4.],\n",
       "       [325.,  14.,   0., ...,   0.,   0.,   5.]])"
      ]
     },
     "execution_count": 129,
     "metadata": {},
     "output_type": "execute_result"
    }
   ],
   "source": [
    "df_new_travel.fillna(0).values"
   ]
  },
  {
   "cell_type": "code",
   "execution_count": 66,
   "metadata": {},
   "outputs": [],
   "source": [
    "np.savetxt('data.txt', df_new_travel.fillna(0).values, fmt='%.2f')"
   ]
  },
  {
   "cell_type": "code",
   "execution_count": 140,
   "metadata": {},
   "outputs": [],
   "source": [
    "retravel = 'C:/Users/thanh/OneDrive - Queensland University of Technology/dataPHD/GrapeAlgorithm/GRAPE/uci/test/power/0/result.pkl'\n",
    "# retravel = 'C:/Users/thanh/OneDrive - Queensland University of Technology/dataPHD/GrapeAlgorithm/GRAPE/uci/test/naval/0/retravelsult.pkl'\n",
    "with open(retravel, 'rb') as f:\n",
    "    # Load the data from the file\n",
    "    s = pickle.load(f)\n",
    "from sklearn.preprocessing import MinMaxScaler\n",
    "scaler = MinMaxScaler()\n",
    "result= np.hstack((s['outputs']['final_pred_train'], s['outputs']['final_pred_test']))\n",
    "r = result.reshape(df_new_travel.iloc[:,:].shape)\n",
    "scaler.fit(df_new_travel.iloc[:,:])\n",
    "sca=pd.DataFrame(scaler.inverse_transform(r), columns=new_travel_col)\n",
    "\n",
    "# df_new_travel.iloc[:, 2:-1] = sca.iloc[:, 2:]\n",
    "# df_reordered.to_csv('depaul_full.csv')\n",
    "df_new_travel= df_new_travel.combine_first(sca)\n",
    "df_new_travel = np.round(df_new_travel)"
   ]
  },
  {
   "cell_type": "code",
   "execution_count": 142,
   "metadata": {},
   "outputs": [],
   "source": [
    "df_new_travel.to_csv('travel_full.csv')"
   ]
  },
  {
   "cell_type": "code",
   "execution_count": 137,
   "metadata": {},
   "outputs": [
    {
     "data": {
      "text/plain": [
       "26"
      ]
     },
     "execution_count": 137,
     "metadata": {},
     "output_type": "execute_result"
    }
   ],
   "source": [
    "len(new_travel_col)"
   ]
  },
  {
   "cell_type": "code",
   "execution_count": null,
   "metadata": {},
   "outputs": [],
   "source": []
  }
 ],
 "metadata": {
  "kernelspec": {
   "display_name": "recsys-nnmf",
   "language": "python",
   "name": "python3"
  },
  "language_info": {
   "codemirror_mode": {
    "name": "ipython",
    "version": 3
   },
   "file_extension": ".py",
   "mimetype": "text/x-python",
   "name": "python",
   "nbconvert_exporter": "python",
   "pygments_lexer": "ipython3",
   "version": "3.7.9"
  },
  "orig_nbformat": 4
 },
 "nbformat": 4,
 "nbformat_minor": 2
}
